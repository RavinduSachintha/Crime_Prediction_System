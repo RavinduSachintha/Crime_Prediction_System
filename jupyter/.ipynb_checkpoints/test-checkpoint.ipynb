{
 "cells": [
  {
   "cell_type": "code",
   "execution_count": 1,
   "metadata": {},
   "outputs": [],
   "source": [
    "import pandas as pd\n",
    "import numpy as np\n",
    "import matplotlib.pyplot as plt\n",
    "import seaborn as sns\n",
    "import random"
   ]
  },
  {
   "cell_type": "code",
   "execution_count": 7,
   "metadata": {},
   "outputs": [],
   "source": [
    "df = pd.read_excel('C:\\\\Users\\\\ravin\\\\Desktop\\\\ML-sliit\\\\tmp\\\\SL_2018CrimeDataSet.xlsx',skiprows=1)"
   ]
  },
  {
   "cell_type": "code",
   "execution_count": 8,
   "metadata": {},
   "outputs": [
    {
     "data": {
      "text/html": [
       "<div>\n",
       "<style scoped>\n",
       "    .dataframe tbody tr th:only-of-type {\n",
       "        vertical-align: middle;\n",
       "    }\n",
       "\n",
       "    .dataframe tbody tr th {\n",
       "        vertical-align: top;\n",
       "    }\n",
       "\n",
       "    .dataframe thead th {\n",
       "        text-align: right;\n",
       "    }\n",
       "</style>\n",
       "<table border=\"1\" class=\"dataframe\">\n",
       "  <thead>\n",
       "    <tr style=\"text-align: right;\">\n",
       "      <th></th>\n",
       "      <th>NumOfCrime</th>\n",
       "      <th>Area</th>\n",
       "      <th>Crime</th>\n",
       "      <th>Year</th>\n",
       "      <th>Month</th>\n",
       "      <th>Day</th>\n",
       "      <th>Hour</th>\n",
       "      <th>Penalty</th>\n",
       "      <th>Danger Level</th>\n",
       "      <th>Tempreature (celsius)</th>\n",
       "      <th>Population Density(km^-2)</th>\n",
       "      <th>Education Level (O/L pass rate)</th>\n",
       "      <th>Economy (Mean household income per month)</th>\n",
       "      <th>alcohol and drug usage</th>\n",
       "    </tr>\n",
       "  </thead>\n",
       "  <tbody>\n",
       "    <tr>\n",
       "      <th>0</th>\n",
       "      <td>1.0</td>\n",
       "      <td>Anuradapura</td>\n",
       "      <td>Abduction</td>\n",
       "      <td>2018.0</td>\n",
       "      <td>5.0</td>\n",
       "      <td>12.0</td>\n",
       "      <td>16.0</td>\n",
       "      <td>20 year or high</td>\n",
       "      <td>5.0</td>\n",
       "      <td>28.0</td>\n",
       "      <td>129.0</td>\n",
       "      <td>67.860268</td>\n",
       "      <td>58326.0</td>\n",
       "      <td>2368.0</td>\n",
       "    </tr>\n",
       "    <tr>\n",
       "      <th>1</th>\n",
       "      <td>2.0</td>\n",
       "      <td>Anuradapura</td>\n",
       "      <td>Abduction</td>\n",
       "      <td>2018.0</td>\n",
       "      <td>5.0</td>\n",
       "      <td>7.0</td>\n",
       "      <td>15.0</td>\n",
       "      <td>20 year or high</td>\n",
       "      <td>5.0</td>\n",
       "      <td>28.0</td>\n",
       "      <td>129.0</td>\n",
       "      <td>67.860268</td>\n",
       "      <td>58326.0</td>\n",
       "      <td>2368.0</td>\n",
       "    </tr>\n",
       "    <tr>\n",
       "      <th>2</th>\n",
       "      <td>3.0</td>\n",
       "      <td>Anuradapura</td>\n",
       "      <td>Abduction</td>\n",
       "      <td>2018.0</td>\n",
       "      <td>4.0</td>\n",
       "      <td>23.0</td>\n",
       "      <td>16.0</td>\n",
       "      <td>20 year or high</td>\n",
       "      <td>5.0</td>\n",
       "      <td>28.0</td>\n",
       "      <td>129.0</td>\n",
       "      <td>67.860268</td>\n",
       "      <td>58326.0</td>\n",
       "      <td>2368.0</td>\n",
       "    </tr>\n",
       "  </tbody>\n",
       "</table>\n",
       "</div>"
      ],
      "text/plain": [
       "   NumOfCrime         Area      Crime    Year  Month   Day  Hour  \\\n",
       "0         1.0  Anuradapura  Abduction  2018.0    5.0  12.0  16.0   \n",
       "1         2.0  Anuradapura  Abduction  2018.0    5.0   7.0  15.0   \n",
       "2         3.0  Anuradapura  Abduction  2018.0    4.0  23.0  16.0   \n",
       "\n",
       "           Penalty  Danger Level  Tempreature (celsius)  \\\n",
       "0  20 year or high           5.0                   28.0   \n",
       "1  20 year or high           5.0                   28.0   \n",
       "2  20 year or high           5.0                   28.0   \n",
       "\n",
       "   Population Density(km^-2)  Education Level (O/L pass rate)  \\\n",
       "0                      129.0                        67.860268   \n",
       "1                      129.0                        67.860268   \n",
       "2                      129.0                        67.860268   \n",
       "\n",
       "   Economy (Mean household income per month)  alcohol and drug usage  \n",
       "0                                    58326.0                  2368.0  \n",
       "1                                    58326.0                  2368.0  \n",
       "2                                    58326.0                  2368.0  "
      ]
     },
     "execution_count": 8,
     "metadata": {},
     "output_type": "execute_result"
    }
   ],
   "source": [
    "df.head(3)"
   ]
  },
  {
   "cell_type": "code",
   "execution_count": 10,
   "metadata": {},
   "outputs": [
    {
     "data": {
      "text/plain": [
       "NumOfCrime                                   float64\n",
       "Area                                          object\n",
       "Crime                                         object\n",
       "Year                                         float64\n",
       "Month                                        float64\n",
       "Day                                          float64\n",
       "Hour                                         float64\n",
       "Penalty                                       object\n",
       "Danger Level                                 float64\n",
       "Tempreature (celsius)                        float64\n",
       "Population Density(km^-2)                    float64\n",
       "Education Level (O/L pass rate)              float64\n",
       "Economy (Mean household income per month)    float64\n",
       "alcohol and drug usage                       float64\n",
       "dtype: object"
      ]
     },
     "execution_count": 10,
     "metadata": {},
     "output_type": "execute_result"
    }
   ],
   "source": [
    "df.dtypes"
   ]
  },
  {
   "cell_type": "code",
   "execution_count": 11,
   "metadata": {},
   "outputs": [
    {
     "data": {
      "text/plain": [
       "(11085, 14)"
      ]
     },
     "execution_count": 11,
     "metadata": {},
     "output_type": "execute_result"
    }
   ],
   "source": [
    "df.shape"
   ]
  },
  {
   "cell_type": "code",
   "execution_count": 12,
   "metadata": {},
   "outputs": [
    {
     "data": {
      "text/html": [
       "<div>\n",
       "<style scoped>\n",
       "    .dataframe tbody tr th:only-of-type {\n",
       "        vertical-align: middle;\n",
       "    }\n",
       "\n",
       "    .dataframe tbody tr th {\n",
       "        vertical-align: top;\n",
       "    }\n",
       "\n",
       "    .dataframe thead th {\n",
       "        text-align: right;\n",
       "    }\n",
       "</style>\n",
       "<table border=\"1\" class=\"dataframe\">\n",
       "  <thead>\n",
       "    <tr style=\"text-align: right;\">\n",
       "      <th></th>\n",
       "      <th>NumOfCrime</th>\n",
       "      <th>Year</th>\n",
       "      <th>Month</th>\n",
       "      <th>Day</th>\n",
       "      <th>Hour</th>\n",
       "      <th>Danger Level</th>\n",
       "      <th>Tempreature (celsius)</th>\n",
       "      <th>Population Density(km^-2)</th>\n",
       "      <th>Education Level (O/L pass rate)</th>\n",
       "      <th>Economy (Mean household income per month)</th>\n",
       "      <th>alcohol and drug usage</th>\n",
       "    </tr>\n",
       "  </thead>\n",
       "  <tbody>\n",
       "    <tr>\n",
       "      <th>count</th>\n",
       "      <td>11074.000000</td>\n",
       "      <td>11074.0</td>\n",
       "      <td>11074.000000</td>\n",
       "      <td>11074.000000</td>\n",
       "      <td>11074.000000</td>\n",
       "      <td>11074.000000</td>\n",
       "      <td>11074.000000</td>\n",
       "      <td>11074.000000</td>\n",
       "      <td>5895.000000</td>\n",
       "      <td>11074.000000</td>\n",
       "      <td>11074.000000</td>\n",
       "    </tr>\n",
       "    <tr>\n",
       "      <th>mean</th>\n",
       "      <td>129.817771</td>\n",
       "      <td>2018.0</td>\n",
       "      <td>6.547679</td>\n",
       "      <td>15.649991</td>\n",
       "      <td>12.983385</td>\n",
       "      <td>2.540545</td>\n",
       "      <td>29.247155</td>\n",
       "      <td>2169.282644</td>\n",
       "      <td>73.998737</td>\n",
       "      <td>81715.391457</td>\n",
       "      <td>20979.490789</td>\n",
       "    </tr>\n",
       "    <tr>\n",
       "      <th>std</th>\n",
       "      <td>162.786153</td>\n",
       "      <td>0.0</td>\n",
       "      <td>3.471489</td>\n",
       "      <td>8.704981</td>\n",
       "      <td>6.955685</td>\n",
       "      <td>1.448296</td>\n",
       "      <td>3.647729</td>\n",
       "      <td>1448.217534</td>\n",
       "      <td>7.518016</td>\n",
       "      <td>22198.873795</td>\n",
       "      <td>17521.282704</td>\n",
       "    </tr>\n",
       "    <tr>\n",
       "      <th>min</th>\n",
       "      <td>1.000000</td>\n",
       "      <td>2018.0</td>\n",
       "      <td>1.000000</td>\n",
       "      <td>1.000000</td>\n",
       "      <td>0.000000</td>\n",
       "      <td>1.000000</td>\n",
       "      <td>20.000000</td>\n",
       "      <td>129.000000</td>\n",
       "      <td>67.814778</td>\n",
       "      <td>46517.000000</td>\n",
       "      <td>899.000000</td>\n",
       "    </tr>\n",
       "    <tr>\n",
       "      <th>25%</th>\n",
       "      <td>19.000000</td>\n",
       "      <td>2018.0</td>\n",
       "      <td>4.000000</td>\n",
       "      <td>8.000000</td>\n",
       "      <td>6.000000</td>\n",
       "      <td>1.000000</td>\n",
       "      <td>28.000000</td>\n",
       "      <td>643.700000</td>\n",
       "      <td>67.860268</td>\n",
       "      <td>58326.000000</td>\n",
       "      <td>2368.000000</td>\n",
       "    </tr>\n",
       "    <tr>\n",
       "      <th>50%</th>\n",
       "      <td>66.000000</td>\n",
       "      <td>2018.0</td>\n",
       "      <td>7.000000</td>\n",
       "      <td>16.000000</td>\n",
       "      <td>14.000000</td>\n",
       "      <td>2.000000</td>\n",
       "      <td>30.000000</td>\n",
       "      <td>3300.000000</td>\n",
       "      <td>70.404351</td>\n",
       "      <td>72834.000000</td>\n",
       "      <td>17036.000000</td>\n",
       "    </tr>\n",
       "    <tr>\n",
       "      <th>75%</th>\n",
       "      <td>175.000000</td>\n",
       "      <td>2018.0</td>\n",
       "      <td>10.000000</td>\n",
       "      <td>23.000000</td>\n",
       "      <td>19.000000</td>\n",
       "      <td>3.000000</td>\n",
       "      <td>32.000000</td>\n",
       "      <td>3300.000000</td>\n",
       "      <td>78.180376</td>\n",
       "      <td>104581.000000</td>\n",
       "      <td>39132.000000</td>\n",
       "    </tr>\n",
       "    <tr>\n",
       "      <th>max</th>\n",
       "      <td>875.000000</td>\n",
       "      <td>2018.0</td>\n",
       "      <td>12.000000</td>\n",
       "      <td>31.000000</td>\n",
       "      <td>23.000000</td>\n",
       "      <td>5.000000</td>\n",
       "      <td>32.000000</td>\n",
       "      <td>4143.000000</td>\n",
       "      <td>87.978546</td>\n",
       "      <td>104581.000000</td>\n",
       "      <td>39132.000000</td>\n",
       "    </tr>\n",
       "  </tbody>\n",
       "</table>\n",
       "</div>"
      ],
      "text/plain": [
       "         NumOfCrime     Year         Month           Day          Hour  \\\n",
       "count  11074.000000  11074.0  11074.000000  11074.000000  11074.000000   \n",
       "mean     129.817771   2018.0      6.547679     15.649991     12.983385   \n",
       "std      162.786153      0.0      3.471489      8.704981      6.955685   \n",
       "min        1.000000   2018.0      1.000000      1.000000      0.000000   \n",
       "25%       19.000000   2018.0      4.000000      8.000000      6.000000   \n",
       "50%       66.000000   2018.0      7.000000     16.000000     14.000000   \n",
       "75%      175.000000   2018.0     10.000000     23.000000     19.000000   \n",
       "max      875.000000   2018.0     12.000000     31.000000     23.000000   \n",
       "\n",
       "       Danger Level  Tempreature (celsius)  Population Density(km^-2)  \\\n",
       "count  11074.000000           11074.000000               11074.000000   \n",
       "mean       2.540545              29.247155                2169.282644   \n",
       "std        1.448296               3.647729                1448.217534   \n",
       "min        1.000000              20.000000                 129.000000   \n",
       "25%        1.000000              28.000000                 643.700000   \n",
       "50%        2.000000              30.000000                3300.000000   \n",
       "75%        3.000000              32.000000                3300.000000   \n",
       "max        5.000000              32.000000                4143.000000   \n",
       "\n",
       "       Education Level (O/L pass rate)  \\\n",
       "count                      5895.000000   \n",
       "mean                         73.998737   \n",
       "std                           7.518016   \n",
       "min                          67.814778   \n",
       "25%                          67.860268   \n",
       "50%                          70.404351   \n",
       "75%                          78.180376   \n",
       "max                          87.978546   \n",
       "\n",
       "       Economy (Mean household income per month)  alcohol and drug usage  \n",
       "count                               11074.000000            11074.000000  \n",
       "mean                                81715.391457            20979.490789  \n",
       "std                                 22198.873795            17521.282704  \n",
       "min                                 46517.000000              899.000000  \n",
       "25%                                 58326.000000             2368.000000  \n",
       "50%                                 72834.000000            17036.000000  \n",
       "75%                                104581.000000            39132.000000  \n",
       "max                                104581.000000            39132.000000  "
      ]
     },
     "execution_count": 12,
     "metadata": {},
     "output_type": "execute_result"
    }
   ],
   "source": [
    "df.describe()"
   ]
  },
  {
   "cell_type": "code",
   "execution_count": 17,
   "metadata": {},
   "outputs": [
    {
     "data": {
      "text/plain": [
       "<matplotlib.axes._subplots.AxesSubplot at 0x28cc1efcb08>"
      ]
     },
     "execution_count": 17,
     "metadata": {},
     "output_type": "execute_result"
    },
    {
     "data": {
      "image/png": "[encoded data removed]",
      "text/plain": [
       "<Figure size 432x288 with 1 Axes>"
      ]
     },
     "metadata": {
      "needs_background": "light"
     },
     "output_type": "display_data"
    }
   ],
   "source": [
    "sns.distplot(df['Population Density(km^-2)'], kde=False, bins=30, color='orange')"
   ]
  },
  {
   "cell_type": "code",
   "execution_count": null,
   "metadata": {},
   "outputs": [],
   "source": []
  }
 ],
 "metadata": {
  "kernelspec": {
   "display_name": "Python 3",
   "language": "python",
   "name": "python3"
  },
  "language_info": {
   "codemirror_mode": {
    "name": "ipython",
    "version": 3
   },
   "file_extension": ".py",
   "mimetype": "text/x-python",
   "name": "python",
   "nbconvert_exporter": "python",
   "pygments_lexer": "ipython3",
   "version": "3.7.5"
  }
 },
 "nbformat": 4,
 "nbformat_minor": 2
}
